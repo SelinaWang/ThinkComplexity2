{
 "cells": [
  {
   "cell_type": "markdown",
   "metadata": {},
   "source": [
    "# Erdos-Renyi Graphs\n",
    "\n",
    "Code examples from [Think Complexity, 2nd edition](http://greenteapress.com/wp/complexity2), Chapter 2\n",
    "\n",
    "Copyright 2016 Allen Downey, [MIT License](http://opensource.org/licenses/MIT)"
   ]
  },
  {
   "cell_type": "code",
   "execution_count": 732,
   "metadata": {
    "collapsed": false
   },
   "outputs": [],
   "source": [
    "from __future__ import print_function, division\n",
    "\n",
    "%matplotlib inline\n",
    "\n",
    "import warnings\n",
    "warnings.filterwarnings('ignore')\n",
    "\n",
    "import matplotlib.pyplot as plt\n",
    "\n",
    "import networkx as nx\n",
    "import numpy as np\n",
    "\n",
    "# colors from our friends at http://colorbrewer2.org\n",
    "COLORS = ['#8dd3c7','#ffffb3','#bebada','#fb8072','#80b1d3','#fdb462',\n",
    "          '#b3de69','#fccde5','#d9d9d9','#bc80bd','#ccebc5','#ffed6f']"
   ]
  },
  {
   "cell_type": "code",
   "execution_count": 733,
   "metadata": {
    "collapsed": true
   },
   "outputs": [],
   "source": [
    "from thinkstats2 import RandomSeed\n",
    "RandomSeed(17)"
   ]
  },
  {
   "cell_type": "markdown",
   "metadata": {},
   "source": [
    "## Directed graph\n",
    "\n",
    "The first example is a directed graph that represents a social network with three nodes."
   ]
  },
  {
   "cell_type": "code",
   "execution_count": 734,
   "metadata": {
    "collapsed": false
   },
   "outputs": [
    {
     "data": {
      "text/plain": [
       "['Chuck', 'Bob', 'Alice']"
      ]
     },
     "execution_count": 734,
     "metadata": {},
     "output_type": "execute_result"
    }
   ],
   "source": [
    "G = nx.DiGraph()\n",
    "G.add_node('Alice')\n",
    "G.add_node('Bob')\n",
    "G.add_node('Chuck')\n",
    "G.nodes()"
   ]
  },
  {
   "cell_type": "markdown",
   "metadata": {},
   "source": [
    "Here's how we add edges between nodes."
   ]
  },
  {
   "cell_type": "code",
   "execution_count": 735,
   "metadata": {
    "collapsed": false
   },
   "outputs": [
    {
     "data": {
      "text/plain": [
       "[('Bob', 'Chuck'), ('Bob', 'Alice'), ('Alice', 'Chuck'), ('Alice', 'Bob')]"
      ]
     },
     "execution_count": 735,
     "metadata": {},
     "output_type": "execute_result"
    }
   ],
   "source": [
    "G.add_edge('Alice', 'Bob')\n",
    "G.add_edge('Alice', 'Chuck')\n",
    "G.add_edge('Bob', 'Alice')\n",
    "G.add_edge('Bob', 'Chuck')\n",
    "G.edges()"
   ]
  },
  {
   "cell_type": "markdown",
   "metadata": {},
   "source": [
    "And here's how to draw the graph."
   ]
  },
  {
   "cell_type": "code",
   "execution_count": 736,
   "metadata": {
    "collapsed": false
   },
   "outputs": [
    {
     "data": {
      "image/png": "[encoded data removed]",
      "text/plain": [
       "<matplotlib.figure.Figure at 0xb217630>"
      ]
     },
     "metadata": {},
     "output_type": "display_data"
    }
   ],
   "source": [
    "nx.draw_circular(G, \n",
    "                 node_color=COLORS[0], \n",
    "                 node_size=2000, \n",
    "                 with_labels=True)\n",
    "plt.axis('equal')\n",
    "plt.savefig('chap02-1.pdf')"
   ]
  },
  {
   "cell_type": "markdown",
   "metadata": {},
   "source": [
    "**Exercise:**  Add another node and a few more edges and draw the graph again."
   ]
  },
  {
   "cell_type": "code",
   "execution_count": 737,
   "metadata": {
    "collapsed": false
   },
   "outputs": [
    {
     "data": {
      "image/png": "[encoded data removed]",
      "text/plain": [
       "<matplotlib.figure.Figure at 0xb2772e8>"
      ]
     },
     "metadata": {},
     "output_type": "display_data"
    }
   ],
   "source": [
    "# Solution goes here\n",
    "G.add_node('Iggy')\n",
    "G.add_edge('Chuck','Iggy')\n",
    "G.add_edge('Iggy','Bob')\n",
    "nx.draw_circular(G,\n",
    "                node_color=COLORS[2],\n",
    "                node_size=3000,\n",
    "                with_labels=True)\n",
    "plt.axis('equal')\n",
    "plt.savefig('chap02-11.pdf')"
   ]
  },
  {
   "cell_type": "markdown",
   "metadata": {},
   "source": [
    "## Undirected graph\n",
    "\n",
    "The second example is an undirected graph that represents cities and the driving times between them.\n",
    "\n",
    "`pos` is a dictionary that maps from each city to its coordinates."
   ]
  },
  {
   "cell_type": "code",
   "execution_count": 738,
   "metadata": {
    "collapsed": false
   },
   "outputs": [
    {
     "data": {
      "text/plain": [
       "(-74, 43)"
      ]
     },
     "execution_count": 738,
     "metadata": {},
     "output_type": "execute_result"
    }
   ],
   "source": [
    "pos = dict(Albany=(-74, 43),\n",
    "          Boston=(-71, 42),\n",
    "          NYC=(-74, 41),\n",
    "          Philly=(-75, 40))\n",
    "pos['Albany']"
   ]
  },
  {
   "cell_type": "markdown",
   "metadata": {},
   "source": [
    "We can use the keys in `pos` to add nodes to the graph."
   ]
  },
  {
   "cell_type": "code",
   "execution_count": 739,
   "metadata": {
    "collapsed": false
   },
   "outputs": [
    {
     "data": {
      "text/plain": [
       "['Albany', 'Philly', 'NYC', 'Boston']"
      ]
     },
     "execution_count": 739,
     "metadata": {},
     "output_type": "execute_result"
    }
   ],
   "source": [
    "G = nx.Graph()\n",
    "G.add_nodes_from(pos)\n",
    "G.nodes()"
   ]
  },
  {
   "cell_type": "markdown",
   "metadata": {},
   "source": [
    "`drive_times` is a dictionary that maps from pairs of cities to the driving times between them."
   ]
  },
  {
   "cell_type": "code",
   "execution_count": 740,
   "metadata": {
    "collapsed": false
   },
   "outputs": [],
   "source": [
    "drive_times = {('Albany', 'Boston'): 3,\n",
    "               ('Albany', 'NYC'): 4,\n",
    "               ('Boston', 'NYC'): 4,\n",
    "               ('NYC', 'Philly'): 2}"
   ]
  },
  {
   "cell_type": "markdown",
   "metadata": {},
   "source": [
    "We can use the keys from `drive_times` to add edges to the graph."
   ]
  },
  {
   "cell_type": "code",
   "execution_count": 741,
   "metadata": {
    "collapsed": false
   },
   "outputs": [
    {
     "data": {
      "text/plain": [
       "[('Albany', 'NYC'), ('Albany', 'Boston'), ('Philly', 'NYC'), ('NYC', 'Boston')]"
      ]
     },
     "execution_count": 741,
     "metadata": {},
     "output_type": "execute_result"
    }
   ],
   "source": [
    "G.add_edges_from(drive_times)\n",
    "G.edges()"
   ]
  },
  {
   "cell_type": "markdown",
   "metadata": {},
   "source": [
    "Now we can draw the graph using `pos` to indicate the positions of the nodes, and `drive_times` to label the edges."
   ]
  },
  {
   "cell_type": "code",
   "execution_count": 742,
   "metadata": {
    "collapsed": false
   },
   "outputs": [
    {
     "data": {
      "image/png": "[encoded data removed]",
      "text/plain": [
       "<matplotlib.figure.Figure at 0xb5c5f28>"
      ]
     },
     "metadata": {},
     "output_type": "display_data"
    }
   ],
   "source": [
    "nx.draw(G, pos, \n",
    "        node_color=COLORS[1], \n",
    "        node_shape='s', \n",
    "        node_size=2500, \n",
    "        with_labels=True)\n",
    "\n",
    "nx.draw_networkx_edge_labels(G, pos, \n",
    "                             edge_labels=drive_times)\n",
    "\n",
    "plt.axis('equal')\n",
    "plt.savefig('chap02-2.pdf')"
   ]
  },
  {
   "cell_type": "markdown",
   "metadata": {},
   "source": [
    "**Exercise:**  Add another city and at least one edge."
   ]
  },
  {
   "cell_type": "code",
   "execution_count": 743,
   "metadata": {
    "collapsed": false
   },
   "outputs": [
    {
     "data": {
      "image/png": "[encoded data removed]",
      "text/plain": [
       "<matplotlib.figure.Figure at 0xaa64a20>"
      ]
     },
     "metadata": {},
     "output_type": "display_data"
    }
   ],
   "source": [
    "# Solution goes here\n",
    "pos['Denver']=(-76,37)\n",
    "G.add_node('Denver')\n",
    "drive_times[('Denver','Boston')]=30\n",
    "drive_times[('Denver','Philly')]=24\n",
    "G.add_edge('Denver','Boston')\n",
    "G.add_edge('Denver','Philly')\n",
    "nx.draw(G, pos,\n",
    "       node_color=COLORS[3],\n",
    "       node_shape='s',\n",
    "       node_size=2000,\n",
    "       with_labels=True)\n",
    "nx.draw_networkx_edge_labels(G, pos, \n",
    "                             edge_labels=drive_times)\n",
    "\n",
    "plt.savefig('chap02-22.pdf')"
   ]
  },
  {
   "cell_type": "markdown",
   "metadata": {},
   "source": [
    "## Complete graph\n",
    "\n",
    "To make a complete graph, we use a generator function that iterates through all pairs of nodes."
   ]
  },
  {
   "cell_type": "code",
   "execution_count": 744,
   "metadata": {
    "collapsed": false
   },
   "outputs": [],
   "source": [
    "def all_pairs(nodes):\n",
    "    for i, u in enumerate(nodes):\n",
    "        for j, v in enumerate(nodes):\n",
    "            if i < j:\n",
    "                yield u, v"
   ]
  },
  {
   "cell_type": "markdown",
   "metadata": {},
   "source": [
    "`make_complete_graph` makes a `Graph` with the given number of nodes and edges between all pairs of nodes."
   ]
  },
  {
   "cell_type": "code",
   "execution_count": 745,
   "metadata": {
    "collapsed": false
   },
   "outputs": [],
   "source": [
    "def make_complete_graph(n):\n",
    "    G = nx.Graph()\n",
    "    nodes = range(n)\n",
    "    G.add_nodes_from(nodes)\n",
    "    G.add_edges_from(all_pairs(nodes))\n",
    "    return G"
   ]
  },
  {
   "cell_type": "markdown",
   "metadata": {},
   "source": [
    "Here's a complete graph with 10 nodes:"
   ]
  },
  {
   "cell_type": "code",
   "execution_count": 746,
   "metadata": {
    "collapsed": false
   },
   "outputs": [
    {
     "data": {
      "text/plain": [
       "10"
      ]
     },
     "execution_count": 746,
     "metadata": {},
     "output_type": "execute_result"
    }
   ],
   "source": [
    "complete = make_complete_graph(10)\n",
    "len(complete.nodes())"
   ]
  },
  {
   "cell_type": "markdown",
   "metadata": {},
   "source": [
    "And here's what it looks like."
   ]
  },
  {
   "cell_type": "code",
   "execution_count": 747,
   "metadata": {
    "collapsed": false
   },
   "outputs": [
    {
     "data": {
      "image/png": "[encoded data removed]",
      "text/plain": [
       "<matplotlib.figure.Figure at 0xc73b3c8>"
      ]
     },
     "metadata": {},
     "output_type": "display_data"
    }
   ],
   "source": [
    "nx.draw_circular(complete, \n",
    "                 node_color=COLORS[2], \n",
    "                 node_size=1000, \n",
    "                 with_labels=True)\n",
    "plt.savefig('chap02-3.pdf')"
   ]
  },
  {
   "cell_type": "markdown",
   "metadata": {},
   "source": [
    "The `neighbors` method returns a list of neighbors for a given node."
   ]
  },
  {
   "cell_type": "code",
   "execution_count": 748,
   "metadata": {
    "collapsed": false
   },
   "outputs": [
    {
     "data": {
      "text/plain": [
       "[1, 2, 3, 4, 5, 6, 7, 8, 9]"
      ]
     },
     "execution_count": 748,
     "metadata": {},
     "output_type": "execute_result"
    }
   ],
   "source": [
    "complete.neighbors(0)"
   ]
  },
  {
   "cell_type": "markdown",
   "metadata": {},
   "source": [
    "**Exercise:** Make and draw complete directed graph with 5 nodes."
   ]
  },
  {
   "cell_type": "code",
   "execution_count": 749,
   "metadata": {
    "collapsed": false
   },
   "outputs": [
    {
     "data": {
      "image/png": "[encoded data removed]",
      "text/plain": [
       "<matplotlib.figure.Figure at 0xdcca198>"
      ]
     },
     "metadata": {},
     "output_type": "display_data"
    }
   ],
   "source": [
    "# Solution goes here\n",
    "complete = make_complete_graph(5)\n",
    "nx.draw_circular(complete, \n",
    "                 node_color=COLORS[2], \n",
    "                 node_size=1000, \n",
    "                 with_labels=True)\n",
    "plt.savefig('chap02-31.pdf')"
   ]
  },
  {
   "cell_type": "markdown",
   "metadata": {},
   "source": [
    "## Random graphs\n",
    "\n",
    "Next we'll make a random graph where the probability of an edge between each pair of nodes is $p$.\n",
    "\n",
    "The helper function `flip` returns True with probability `p` and False with probability `1-p`"
   ]
  },
  {
   "cell_type": "code",
   "execution_count": 750,
   "metadata": {
    "collapsed": false
   },
   "outputs": [],
   "source": [
    "from numpy.random import random\n",
    "\n",
    "def flip(p):\n",
    "    return random() < p"
   ]
  },
  {
   "cell_type": "markdown",
   "metadata": {},
   "source": [
    "`random_pairs` is a generator function that enumerates all possible pairs of nodes and yields each one with probability `p` "
   ]
  },
  {
   "cell_type": "code",
   "execution_count": 751,
   "metadata": {
    "collapsed": false
   },
   "outputs": [],
   "source": [
    "def random_pairs(nodes, p):\n",
    "    for i, u in enumerate(nodes):\n",
    "        for j, v in enumerate(nodes):\n",
    "            if i<j and flip(p):\n",
    "                yield u, v"
   ]
  },
  {
   "cell_type": "markdown",
   "metadata": {},
   "source": [
    "`make_random_graph` makes an ER graph where the probability of an edge between each pair of nodes is `p`."
   ]
  },
  {
   "cell_type": "code",
   "execution_count": 752,
   "metadata": {
    "collapsed": false
   },
   "outputs": [],
   "source": [
    "def make_random_graph(n, p):\n",
    "    G = nx.Graph()\n",
    "    nodes = range(n)\n",
    "    G.add_nodes_from(nodes)\n",
    "    G.add_edges_from(random_pairs(nodes, p))\n",
    "    return G"
   ]
  },
  {
   "cell_type": "markdown",
   "metadata": {},
   "source": [
    "Here's an example with `n=10` and `p=0.3`"
   ]
  },
  {
   "cell_type": "code",
   "execution_count": 753,
   "metadata": {
    "collapsed": false
   },
   "outputs": [
    {
     "data": {
      "text/plain": [
       "17"
      ]
     },
     "execution_count": 753,
     "metadata": {},
     "output_type": "execute_result"
    }
   ],
   "source": [
    "random_graph = make_random_graph(10, 0.3)\n",
    "len(random_graph.edges())"
   ]
  },
  {
   "cell_type": "markdown",
   "metadata": {},
   "source": [
    "And here's what it looks like:"
   ]
  },
  {
   "cell_type": "code",
   "execution_count": 754,
   "metadata": {
    "collapsed": false
   },
   "outputs": [
    {
     "data": {
      "image/png": "[encoded data removed]",
      "text/plain": [
       "<matplotlib.figure.Figure at 0xb691f60>"
      ]
     },
     "metadata": {},
     "output_type": "display_data"
    }
   ],
   "source": [
    "nx.draw_circular(random_graph, \n",
    "                 node_color=COLORS[3], \n",
    "                 node_size=1000, \n",
    "                 with_labels=True)\n",
    "plt.savefig('chap02-4.pdf')"
   ]
  },
  {
   "cell_type": "markdown",
   "metadata": {},
   "source": [
    "## Connectivity\n",
    "\n",
    "To check whether a graph is connected, we'll start by finding all nodes that can be reached, starting with a given node:"
   ]
  },
  {
   "cell_type": "code",
   "execution_count": 755,
   "metadata": {
    "collapsed": false
   },
   "outputs": [],
   "source": [
    "def reachable_nodes(G, start):\n",
    "    seen = set()\n",
    "    stack = [start]\n",
    "    while stack:\n",
    "        node = stack.pop()\n",
    "        if node not in seen:\n",
    "            seen.add(node)\n",
    "            stack.extend(G.neighbors(node))\n",
    "    return seen"
   ]
  },
  {
   "cell_type": "markdown",
   "metadata": {},
   "source": [
    "In the complete graph, starting from node 0, we can reach all nodes:"
   ]
  },
  {
   "cell_type": "code",
   "execution_count": 756,
   "metadata": {
    "collapsed": false
   },
   "outputs": [
    {
     "data": {
      "text/plain": [
       "{0, 1, 2, 3, 4}"
      ]
     },
     "execution_count": 756,
     "metadata": {},
     "output_type": "execute_result"
    }
   ],
   "source": [
    "reachable_nodes(complete, 0)"
   ]
  },
  {
   "cell_type": "markdown",
   "metadata": {},
   "source": [
    "In the random graph we generated, we can also reach all nodes (but that's not always true):"
   ]
  },
  {
   "cell_type": "code",
   "execution_count": 757,
   "metadata": {
    "collapsed": false
   },
   "outputs": [
    {
     "data": {
      "text/plain": [
       "{0, 1, 2, 3, 4, 5, 6, 7, 8, 9}"
      ]
     },
     "execution_count": 757,
     "metadata": {},
     "output_type": "execute_result"
    }
   ],
   "source": [
    "reachable_nodes(random_graph, 0)"
   ]
  },
  {
   "cell_type": "markdown",
   "metadata": {},
   "source": [
    "We can use `reachable_nodes` to check whether a graph is connected:"
   ]
  },
  {
   "cell_type": "code",
   "execution_count": 758,
   "metadata": {
    "collapsed": true
   },
   "outputs": [],
   "source": [
    "def is_connected(G):\n",
    "    start = next(G.nodes_iter())\n",
    "    reachable = reachable_nodes(G, start)\n",
    "    return len(reachable) == len(G)"
   ]
  },
  {
   "cell_type": "markdown",
   "metadata": {},
   "source": [
    "Again, the complete graph is connected:"
   ]
  },
  {
   "cell_type": "code",
   "execution_count": 759,
   "metadata": {
    "collapsed": false
   },
   "outputs": [
    {
     "data": {
      "text/plain": [
       "True"
      ]
     },
     "execution_count": 759,
     "metadata": {},
     "output_type": "execute_result"
    }
   ],
   "source": [
    "is_connected(complete)"
   ]
  },
  {
   "cell_type": "markdown",
   "metadata": {},
   "source": [
    "But if we generate a random graph with a low value of `p`, it's not:"
   ]
  },
  {
   "cell_type": "code",
   "execution_count": 760,
   "metadata": {
    "collapsed": false
   },
   "outputs": [
    {
     "data": {
      "text/plain": [
       "6"
      ]
     },
     "execution_count": 760,
     "metadata": {},
     "output_type": "execute_result"
    }
   ],
   "source": [
    "random_graph = make_random_graph(10, 0.1)\n",
    "len(random_graph.edges())"
   ]
  },
  {
   "cell_type": "markdown",
   "metadata": {},
   "source": []
  },
  {
   "cell_type": "code",
   "execution_count": 761,
   "metadata": {
    "collapsed": false
   },
   "outputs": [
    {
     "data": {
      "text/plain": [
       "False"
      ]
     },
     "execution_count": 761,
     "metadata": {},
     "output_type": "execute_result"
    }
   ],
   "source": [
    "is_connected(random_graph)"
   ]
  },
  {
   "cell_type": "markdown",
   "metadata": {},
   "source": [
    "**Exercise:** What do you think it means for a directed graph to be connected?  Write a function that checks whether a directed graph is connected."
   ]
  },
  {
   "cell_type": "code",
   "execution_count": 762,
   "metadata": {
    "collapsed": false
   },
   "outputs": [],
   "source": [
    "# Solution goes here\n",
    "def directed_reachable_nodes(G, start) :\n",
    "    seen = set()\n",
    "    stack = [start]\n",
    "    while stack:\n",
    "        node = stack.pop()\n",
    "        if node not in seen:\n",
    "            seen.add(node)\n",
    "            stack.extend(G.successors(node))\n",
    "    return seen\n",
    "\n",
    "def directed_is_connected(G):\n",
    "    for node in G.nodes_iter():\n",
    "        reachable = directed_reachable_nodes(G, node)\n",
    "        if len(reachable) < len(G.nodes)-1:\n",
    "            return False\n",
    "    return True"
   ]
  },
  {
   "cell_type": "markdown",
   "metadata": {},
   "source": [
    "## Probability of connectivity\n",
    "\n",
    "Now let's estimare the probability that a randomly-generated ER graph is connected.\n",
    "\n",
    "This function takes `n` and `p`, generates `iters` graphs, and returns the fraction of them that are connected."
   ]
  },
  {
   "cell_type": "code",
   "execution_count": 763,
   "metadata": {
    "collapsed": true
   },
   "outputs": [],
   "source": [
    "def prob_connected(n, p, iters=100):\n",
    "    count = 0\n",
    "    for i in range(iters):\n",
    "        random_graph = make_random_graph(n, p)\n",
    "        if is_connected(random_graph):\n",
    "            count += 1\n",
    "    return count/iters"
   ]
  },
  {
   "cell_type": "markdown",
   "metadata": {},
   "source": [
    "With `n=10` and `p=0.3`, the probability of being connected is about 65%."
   ]
  },
  {
   "cell_type": "code",
   "execution_count": 764,
   "metadata": {
    "collapsed": false
   },
   "outputs": [
    {
     "data": {
      "text/plain": [
       "0.6494"
      ]
     },
     "execution_count": 764,
     "metadata": {},
     "output_type": "execute_result"
    }
   ],
   "source": [
    "n = 10\n",
    "prob_connected(n, 0.3, iters=10000)"
   ]
  },
  {
   "cell_type": "markdown",
   "metadata": {},
   "source": [
    "According to Erdos and Renyi, the critical value of `p` for `n=10` is about 0.23. "
   ]
  },
  {
   "cell_type": "code",
   "execution_count": 765,
   "metadata": {
    "collapsed": false
   },
   "outputs": [
    {
     "data": {
      "text/plain": [
       "0.23025850929940458"
      ]
     },
     "execution_count": 765,
     "metadata": {},
     "output_type": "execute_result"
    }
   ],
   "source": [
    "pstar = np.log(n) / n\n",
    "pstar"
   ]
  },
  {
   "cell_type": "markdown",
   "metadata": {},
   "source": [
    "So let's plot the probability of connectivity for a range of values for `p`"
   ]
  },
  {
   "cell_type": "code",
   "execution_count": 766,
   "metadata": {
    "collapsed": false
   },
   "outputs": [
    {
     "data": {
      "text/plain": [
       "array([ 0.05011872,  0.0676083 ,  0.09120108,  0.12302688,  0.16595869,\n",
       "        0.22387211,  0.30199517,  0.40738028,  0.54954087,  0.74131024,  1.        ])"
      ]
     },
     "execution_count": 766,
     "metadata": {},
     "output_type": "execute_result"
    }
   ],
   "source": [
    "ps = np.logspace(-1.3, 0, 11)\n",
    "ps"
   ]
  },
  {
   "cell_type": "markdown",
   "metadata": {},
   "source": [
    "I'll estimate the probabilities with `iters=1000`"
   ]
  },
  {
   "cell_type": "code",
   "execution_count": 767,
   "metadata": {
    "collapsed": false
   },
   "outputs": [
    {
     "name": "stdout",
     "output_type": "stream",
     "text": [
      "0.0501187233627 0.0\n",
      "0.0676082975392 0.0\n",
      "0.0912010839356 0.004\n",
      "0.123026877081 0.016\n",
      "0.165958690744 0.11\n",
      "0.223872113857 0.346\n",
      "0.30199517204 0.664\n",
      "0.407380277804 0.899\n",
      "0.549540873858 0.989\n",
      "0.741310241301 1.0\n",
      "1.0 1.0\n"
     ]
    }
   ],
   "source": [
    "ys = [prob_connected(n, p, 1000) for p in ps]\n",
    "\n",
    "for p, y in zip(ps, ys):\n",
    "    print(p, y)"
   ]
  },
  {
   "cell_type": "markdown",
   "metadata": {},
   "source": [
    "And then plot them, adding a vertical line at the computed critical value"
   ]
  },
  {
   "cell_type": "code",
   "execution_count": 768,
   "metadata": {
    "collapsed": false
   },
   "outputs": [
    {
     "data": {
      "image/png": "[encoded data removed]",
      "text/plain": [
       "<matplotlib.figure.Figure at 0xdc68a20>"
      ]
     },
     "metadata": {},
     "output_type": "display_data"
    }
   ],
   "source": [
    "import thinkplot\n",
    "\n",
    "thinkplot.vlines([pstar], 0, 1, color='gray')\n",
    "thinkplot.plot(ps, ys)\n",
    "thinkplot.config(xlabel='p', ylabel='prob connected', xscale='log', xlim=[ps[0], ps[-1]])\n",
    "plt.savefig('chap02-5.pdf')"
   ]
  },
  {
   "cell_type": "markdown",
   "metadata": {},
   "source": [
    "We can run the same analysis for a few more values of `n`."
   ]
  },
  {
   "cell_type": "code",
   "execution_count": 769,
   "metadata": {
    "collapsed": false
   },
   "outputs": [
    {
     "data": {
      "image/png": "[encoded data removed]",
      "text/plain": [
       "<matplotlib.figure.Figure at 0xb25f2e8>"
      ]
     },
     "metadata": {},
     "output_type": "display_data"
    }
   ],
   "source": [
    "ns = [30, 100, 300]\n",
    "ps = np.logspace(-2.5, 0, 11)\n",
    "\n",
    "thinkplot.preplot(len(ns))\n",
    "for n in ns:\n",
    "    pstar = np.log(n) / n\n",
    "    thinkplot.vlines([pstar], 0, 1, color='gray')\n",
    "\n",
    "    ys = [prob_connected(n, p) for p in ps]\n",
    "    thinkplot.plot(ps, ys, label='n=%d' % n)\n",
    "\n",
    "thinkplot.config(xlabel='p', ylabel='prob connected',\n",
    "                 xscale='log', xlim=[ps[0], ps[-1]],\n",
    "                 loc='upper left')\n",
    "plt.savefig('chap02-6.pdf')"
   ]
  },
  {
   "cell_type": "markdown",
   "metadata": {},
   "source": [
    "As `n` increases, the critical value gets smaller and the transition gets more abrupt."
   ]
  },
  {
   "cell_type": "markdown",
   "metadata": {},
   "source": [
    "## Exercises"
   ]
  },
  {
   "cell_type": "markdown",
   "metadata": {},
   "source": [
    "**Exercise:** In Chapter 2 we analyzed the performance of `reachable_nodes` and classified it in $O(n + m)$, where $n$ is the number of nodes and $m$ is the number of edges.  Continuing the\n",
    "analysis, what is the order of growth for `is_connected`?\n",
    "\n",
    "    def is_connected(G):\n",
    "        start = next(G.nodes_iter())\n",
    "        reachable = reachable_nodes(G, start)\n",
    "        return len(reachable) == len(G)"
   ]
  },
  {
   "cell_type": "code",
   "execution_count": 770,
   "metadata": {
    "collapsed": false
   },
   "outputs": [
    {
     "data": {
      "text/plain": [
       "'G.nodes_iter() takes constant time O(1), reachable_nodes() takes O(n+m),\\nreachable is a set so len(reachable) is constant time, and G is a graph so len(G) is also constant time.\\nThe comparison also takes constant time.\\nTherefore, the order of growth for is_connected is the sum of all of them but we only care about the largest coefficient.\\nTherefore, the overall order of growth is O(n+m)'"
      ]
     },
     "execution_count": 770,
     "metadata": {},
     "output_type": "execute_result"
    }
   ],
   "source": [
    "# Solution goes here\n",
    "'''G.nodes_iter() takes constant time O(1), reachable_nodes() takes O(n+m),\n",
    "reachable is a set so len(reachable) is constant time, and G is a graph so len(G) is also constant time.\n",
    "The comparison also takes constant time.\n",
    "Therefore, the order of growth for is_connected is the sum of all of them but we only care about the largest coefficient.\n",
    "Therefore, the overall order of growth is O(n+m)'''"
   ]
  },
  {
   "cell_type": "markdown",
   "metadata": {},
   "source": [
    "**Exercise:** In my implementation of `reachable_nodes`, you might be bothered by the apparent inefficiency of adding *all* neighbors to the stack without checking whether they are already in `seen`.  Write a version of this function that checks the neighbors before adding them to the stack.  Does this \"optimization\" change the order of growth?  Does it make the function faster?"
   ]
  },
  {
   "cell_type": "code",
   "execution_count": 771,
   "metadata": {
    "collapsed": false
   },
   "outputs": [],
   "source": [
    "def reachable_nodes_precheck(G, start):\n",
    "    seen = set()\n",
    "    stack=[start]\n",
    "    while stack:\n",
    "        node = stack.pop()\n",
    "        if node not in seen:\n",
    "            seen.add(node)\n",
    "            for neighbor in G.neighbors_iter(node):\n",
    "                if neighbor not in seen:\n",
    "                    stack.append(neighbor)\n",
    "    return seen"
   ]
  },
  {
   "cell_type": "code",
   "execution_count": 772,
   "metadata": {
    "collapsed": false
   },
   "outputs": [
    {
     "data": {
      "text/plain": [
       "'For a given node, we assume it has k neighbors.\\nTherefore, the for loop is of O(k) since the two operations (in a set and stack.extend(a_single_element)) in the body are \\nboth constant time and each node is only added to the stack once. Eventually, all of the nodes will be added to the set seen \\nexactly once. Therefore, that is of O(n). The overall order of growth is then O(k+m) which is the same as the original function. \\nHowever, the optimization does make the function faster due to the elimination of unnecessary operations especially the fewer \\nstack.extend() and stack.pop() operations.'"
      ]
     },
     "execution_count": 772,
     "metadata": {},
     "output_type": "execute_result"
    }
   ],
   "source": [
    "# Solution goes here\n",
    "'''For a given node, we assume it has k neighbors.\n",
    "Therefore, the for loop is of O(k) since the two operations (in a set and stack.extend(a_single_element)) in the body are \n",
    "both constant time and each node is only added to the stack once. Eventually, all of the nodes will be added to the set seen \n",
    "exactly once. Therefore, that is of O(n). The overall order of growth is then O(k+m) which is the same as the original function. \n",
    "However, the optimization does make the function faster due to the elimination of unnecessary operations especially the fewer \n",
    "stack.extend() and stack.pop() operations.'''"
   ]
  },
  {
   "cell_type": "code",
   "execution_count": 773,
   "metadata": {
    "collapsed": false
   },
   "outputs": [
    {
     "name": "stdout",
     "output_type": "stream",
     "text": [
      "The slowest run took 4.19 times longer than the fastest. This could mean that an intermediate result is being cached.\n",
      "100000 loops, best of 3: 6.21 µs per loop\n"
     ]
    }
   ],
   "source": [
    "%timeit len(reachable_nodes(complete, 0))"
   ]
  },
  {
   "cell_type": "code",
   "execution_count": 774,
   "metadata": {
    "collapsed": false
   },
   "outputs": [
    {
     "name": "stdout",
     "output_type": "stream",
     "text": [
      "100000 loops, best of 3: 5.37 µs per loop\n"
     ]
    }
   ],
   "source": [
    "%timeit len(reachable_nodes_precheck(complete, 0))\n",
    "'''As shown here, the new algorithm does have a faster run time'''"
   ]
  },
  {
   "cell_type": "markdown",
   "metadata": {
    "collapsed": true
   },
   "source": [
    "**Exercise:** There are actually two kinds of ER graphs.  The one we generated in the chapter, $G(n, p)$, is characterized by two parameters, the number of nodes and the probability of an edge between nodes.\n",
    "\n",
    "An alternative definition, denoted $G(n, m)$, is also characterized by two parameters: the number of nodes, $n$, and the number of edges, $m$.  Under this definition, the number of edges is fixed, but their location is random.\n",
    "\n",
    "Repeat the experiments we did in this chapter using this alternative definition.  Here are a few suggestions for how to proceed:\n",
    "\n",
    "1. Write a function called `m_pairs` that takes a list of nodes and the number of edges, $m$, and returns a random selection of $m$ edges.  A simple way to do that is to generate a list of all possible edges and use `random.sample`.\n",
    "\n",
    "2. Write a function called `make_m_graph` that takes $n$ and $m$ and returns a random graph with $n$ nodes and $m$ edges.\n",
    "\n",
    "3. Make a version of `prob_connected` that uses `make_m_graph` instead of `make_random_graph`.\n",
    "\n",
    "4. Compute the probability of connectivity for a range of values of $m$.\n",
    "\n",
    "How do the results of this experiment compare to the results using the first type of ER graph?"
   ]
  },
  {
   "cell_type": "code",
   "execution_count": 776,
   "metadata": {
    "collapsed": false
   },
   "outputs": [],
   "source": [
    "# Solution goes here\n",
    "import random\n",
    "\n",
    "def m_pairs(nodes, m):\n",
    "    list_of_all_edges = list(all_pairs(nodes))\n",
    "    return random.sample(list_of_all_edges,m)"
   ]
  },
  {
   "cell_type": "code",
   "execution_count": 777,
   "metadata": {
    "collapsed": false
   },
   "outputs": [],
   "source": [
    "# Solution goes here\n",
    "def make_m_graph(n,m):\n",
    "    G = nx.Graph()\n",
    "    nodes = range(n)\n",
    "    G.add_nodes_from(nodes)\n",
    "    G.add_edges_from(m_pairs(nodes,m))\n",
    "    return G"
   ]
  },
  {
   "cell_type": "code",
   "execution_count": 786,
   "metadata": {
    "collapsed": false
   },
   "outputs": [],
   "source": [
    "# Solution goes here\n",
    "def prob_connected_m(n, m, iters=100):\n",
    "    count = 0\n",
    "    for i in range(iters):\n",
    "        random_graph = make_m_graph(n, m)\n",
    "        if is_connected(random_graph):\n",
    "            count += 1\n",
    "    return count/iters"
   ]
  },
  {
   "cell_type": "code",
   "execution_count": 807,
   "metadata": {
    "collapsed": false
   },
   "outputs": [
    {
     "name": "stdout",
     "output_type": "stream",
     "text": [
      "5 0.0\n",
      "6 0.0\n",
      "7 0.0\n",
      "8 0.0\n",
      "9 0.13\n",
      "10 0.297\n",
      "11 0.446\n",
      "12 0.562\n",
      "13 0.673\n",
      "14 0.752\n",
      "15 0.838\n",
      "16 0.886\n",
      "17 0.921\n",
      "18 0.953\n",
      "19 0.961\n",
      "20 0.984\n",
      "21 0.987\n",
      "22 0.989\n",
      "23 0.997\n",
      "24 0.997\n",
      "25 1.0\n",
      "26 1.0\n",
      "27 1.0\n",
      "28 1.0\n",
      "29 1.0\n",
      "30 1.0\n",
      "31 1.0\n",
      "32 1.0\n",
      "33 1.0\n",
      "34 1.0\n"
     ]
    },
    {
     "data": {
      "image/png": "[encoded data removed]",
      "text/plain": [
       "<matplotlib.figure.Figure at 0xca12940>"
      ]
     },
     "metadata": {},
     "output_type": "display_data"
    }
   ],
   "source": [
    "n=10\n",
    "m = range(5,35)\n",
    "pstar = np.log(n) / n\n",
    "ys = [prob_connected_m(n, i, 1000) for i in m]\n",
    "\n",
    "for i, y in zip(m, ys):\n",
    "    print(i, y)\n",
    "    \n",
    "thinkplot.vlines([pstar], 0, 1, color='gray')\n",
    "thinkplot.plot(m, ys)\n",
    "thinkplot.config(xlabel='m', ylabel='prob connected', xscale='linear', xlim=[m[0], m[-1]])\n",
    "plt.savefig('chap02-51.pdf')\n",
    "\n",
    "'''The slope of the figure is definitely more smooth than the figure obtained from the first type of ER graph.\n",
    "The probabilties started to increase more and more slowly'''"
   ]
  },
  {
   "cell_type": "code",
   "execution_count": null,
   "metadata": {
    "collapsed": true
   },
   "outputs": [],
   "source": [
    "'''\n",
    "I am very interested in how complexity science applies to decentralized systems and to user-to-user platforms. I am thinking\n",
    "about doing my final project on one of these two topics. It seems like most people agree that complexity science produces good\n",
    "models that give logical and powerful results especially with systems of more than 2 objects. However, some conservative\n",
    "scientists may not consider complexity science as a real science due to the fact that it often uses computations instead of\n",
    "rigorous mathematical/physical analysis. In these debates, the integrity of classical sciences is at stake. If results produced\n",
    "by complexity science models are eventually considered valid and in some form physical theories, that threatens the credibility\n",
    "of results from traditional scientific experiments. Growing up in China, the culture was mostly conservative. Throughout my\n",
    "educational career in China, I have always been taught the traditional scientific model of thinking where everything has to be\n",
    "backed up by natural laws or mathematical equations. Therefore, the idea of complexity science is pretty much brand new to me.\n",
    "I hold a critical attitude toward the subject. I do believe in most of the claims that has been made about this subject. However,\n",
    "it is going to take some hands-on experience to fully pull me into the complexity science camp. I hope to gain more insight into\n",
    "the power of complexity science by the end of the semester and to come out of the class with a renewed take on this upcoming\n",
    "subject.\n",
    "'''"
   ]
  }
 ],
 "metadata": {
  "kernelspec": {
   "display_name": "Python [Root]",
   "language": "python",
   "name": "Python [Root]"
  },
  "language_info": {
   "codemirror_mode": {
    "name": "ipython",
    "version": 3
   },
   "file_extension": ".py",
   "mimetype": "text/x-python",
   "name": "python",
   "nbconvert_exporter": "python",
   "pygments_lexer": "ipython3",
   "version": "3.5.2"
  }
 },
 "nbformat": 4,
 "nbformat_minor": 0
}
